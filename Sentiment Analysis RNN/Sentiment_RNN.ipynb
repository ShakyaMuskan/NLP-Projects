{
  "nbformat": 4,
  "nbformat_minor": 0,
  "metadata": {
    "colab": {
      "provenance": []
    },
    "kernelspec": {
      "name": "python3",
      "display_name": "Python 3"
    },
    "language_info": {
      "name": "python"
    }
  },
  "cells": [
    {
      "cell_type": "code",
      "execution_count": 1,
      "metadata": {
        "id": "UXnC_MtfJu4h"
      },
      "outputs": [],
      "source": [
        "import pandas as pd\n",
        "import numpy as np"
      ]
    },
    {
      "cell_type": "code",
      "source": [
        "df=pd.read_csv('/content/drive/MyDrive/IMDB Dataset.csv')"
      ],
      "metadata": {
        "id": "OEAtKM_qKeEq"
      },
      "execution_count": 4,
      "outputs": []
    },
    {
      "cell_type": "code",
      "source": [
        "df.info()"
      ],
      "metadata": {
        "colab": {
          "base_uri": "https://localhost:8080/"
        },
        "id": "UI96ZYXyK48N",
        "outputId": "2454e7a9-0753-47cd-994f-dbb89a5fd2e3"
      },
      "execution_count": 5,
      "outputs": [
        {
          "output_type": "stream",
          "name": "stdout",
          "text": [
            "<class 'pandas.core.frame.DataFrame'>\n",
            "RangeIndex: 50000 entries, 0 to 49999\n",
            "Data columns (total 2 columns):\n",
            " #   Column     Non-Null Count  Dtype \n",
            "---  ------     --------------  ----- \n",
            " 0   review     50000 non-null  object\n",
            " 1   sentiment  50000 non-null  object\n",
            "dtypes: object(2)\n",
            "memory usage: 781.4+ KB\n"
          ]
        }
      ]
    },
    {
      "cell_type": "code",
      "source": [
        "from sklearn.preprocessing import LabelEncoder\n"
      ],
      "metadata": {
        "id": "qn9IIhV3Pv6B"
      },
      "execution_count": 6,
      "outputs": []
    },
    {
      "cell_type": "code",
      "source": [
        "label_encoder = LabelEncoder()\n",
        "df['sentiment'] = label_encoder.fit_transform(df['sentiment'])"
      ],
      "metadata": {
        "id": "kBKJxtjoPw0T"
      },
      "execution_count": 7,
      "outputs": []
    },
    {
      "cell_type": "code",
      "source": [
        "from sklearn.model_selection import train_test_split\n"
      ],
      "metadata": {
        "id": "0HBYAS-eK6-2"
      },
      "execution_count": 8,
      "outputs": []
    },
    {
      "cell_type": "code",
      "source": [
        "train_df, test_df = train_test_split(df, test_size=0.2, random_state=42)\n"
      ],
      "metadata": {
        "id": "hfWTq8QrLVDl"
      },
      "execution_count": 9,
      "outputs": []
    },
    {
      "cell_type": "code",
      "source": [
        "max_words = 10000\n",
        "max_length = 100"
      ],
      "metadata": {
        "id": "yvVhf06uLWy-"
      },
      "execution_count": 10,
      "outputs": []
    },
    {
      "cell_type": "code",
      "source": [
        "from tensorflow.keras.preprocessing.sequence import pad_sequences\n",
        "from tensorflow.keras.preprocessing.text import Tokenizer\n",
        "\n",
        "from tensorflow.keras.models import Sequential\n",
        "from tensorflow.keras.layers import Embedding, SimpleRNN, Dense"
      ],
      "metadata": {
        "id": "ABsTFjGRNLUl"
      },
      "execution_count": 11,
      "outputs": []
    },
    {
      "cell_type": "code",
      "source": [
        "tokenizer = Tokenizer(num_words=max_words, oov_token=\"<OOV>\")\n",
        "tokenizer.fit_on_texts(train_df['review'])\n"
      ],
      "metadata": {
        "id": "h1rU0JUUNNg4"
      },
      "execution_count": 12,
      "outputs": []
    },
    {
      "cell_type": "code",
      "source": [
        "train_sequences = tokenizer.texts_to_sequences(train_df['review'])\n",
        "test_sequences = tokenizer.texts_to_sequences(test_df['review'])\n",
        "\n",
        "padded_train_sequences = pad_sequences(train_sequences, maxlen=max_length, padding='post', truncating='post')\n",
        "padded_test_sequences = pad_sequences(test_sequences, maxlen=max_length, padding='post', truncating='post')"
      ],
      "metadata": {
        "id": "ORNR8SQ7NV8D"
      },
      "execution_count": 13,
      "outputs": []
    },
    {
      "cell_type": "code",
      "source": [
        "# Build the RNN model\n",
        "model = Sequential()\n",
        "model.add(Embedding(input_dim=max_words, output_dim=16, input_length=max_length))\n",
        "model.add(SimpleRNN(units=32))\n",
        "model.add(Dense(units=1, activation='sigmoid'))"
      ],
      "metadata": {
        "id": "37Fcj9Z5O26o"
      },
      "execution_count": 14,
      "outputs": []
    },
    {
      "cell_type": "code",
      "source": [
        "# Compile the model\n",
        "model.compile(optimizer='adam', loss='binary_crossentropy', metrics=['accuracy'])"
      ],
      "metadata": {
        "id": "SbYQg8OOPGmt"
      },
      "execution_count": 15,
      "outputs": []
    },
    {
      "cell_type": "code",
      "source": [
        "# Train the model\n",
        "model.fit(padded_train_sequences, train_df['sentiment'], epochs=5, validation_split=0.2)\n"
      ],
      "metadata": {
        "colab": {
          "base_uri": "https://localhost:8080/"
        },
        "id": "_AIlj-o4PJSv",
        "outputId": "cf6834fe-fba6-49c9-b7c3-a9c38ea76ab4"
      },
      "execution_count": 16,
      "outputs": [
        {
          "output_type": "stream",
          "name": "stdout",
          "text": [
            "Epoch 1/5\n",
            "1000/1000 [==============================] - 28s 26ms/step - loss: 0.6907 - accuracy: 0.5348 - val_loss: 0.6864 - val_accuracy: 0.5529\n",
            "Epoch 2/5\n",
            "1000/1000 [==============================] - 26s 26ms/step - loss: 0.6095 - accuracy: 0.6767 - val_loss: 0.6932 - val_accuracy: 0.5537\n",
            "Epoch 3/5\n",
            "1000/1000 [==============================] - 26s 26ms/step - loss: 0.4890 - accuracy: 0.7594 - val_loss: 0.8493 - val_accuracy: 0.5295\n",
            "Epoch 4/5\n",
            "1000/1000 [==============================] - 24s 24ms/step - loss: 0.3546 - accuracy: 0.8391 - val_loss: 0.9210 - val_accuracy: 0.5255\n",
            "Epoch 5/5\n",
            "1000/1000 [==============================] - 26s 26ms/step - loss: 0.2298 - accuracy: 0.9000 - val_loss: 1.1731 - val_accuracy: 0.5595\n"
          ]
        },
        {
          "output_type": "execute_result",
          "data": {
            "text/plain": [
              "<keras.src.callbacks.History at 0x7a5c318a6620>"
            ]
          },
          "metadata": {},
          "execution_count": 16
        }
      ]
    },
    {
      "cell_type": "code",
      "source": [
        "accuracy = model.evaluate(padded_test_sequences, test_df['sentiment'])[1]\n",
        "print(f\"Test Accuracy: {accuracy}\")"
      ],
      "metadata": {
        "colab": {
          "base_uri": "https://localhost:8080/"
        },
        "id": "Kgo90mt5PLkP",
        "outputId": "3f5e707b-f69b-40f3-8efb-03d17d04d935"
      },
      "execution_count": 17,
      "outputs": [
        {
          "output_type": "stream",
          "name": "stdout",
          "text": [
            "313/313 [==============================] - 2s 6ms/step - loss: 1.1592 - accuracy: 0.5651\n",
            "Test Accuracy: 0.5651000142097473\n"
          ]
        }
      ]
    },
    {
      "cell_type": "code",
      "source": [
        "new_texts = [\"This is a great movie!\", \"I didn't like the product.\"]\n",
        "new_sequences = tokenizer.texts_to_sequences(new_texts)\n",
        "padded_new_sequences = pad_sequences(new_sequences, maxlen=max_length, padding='post', truncating='post')"
      ],
      "metadata": {
        "id": "IDvqXMylQ1nz"
      },
      "execution_count": 18,
      "outputs": []
    },
    {
      "cell_type": "code",
      "source": [
        "predictions = model.predict(padded_new_sequences)\n",
        "print(\"Predictions:\", predictions)"
      ],
      "metadata": {
        "colab": {
          "base_uri": "https://localhost:8080/"
        },
        "id": "Bmoie3OzQ6X0",
        "outputId": "a2c7ce1a-d62e-4aae-c1cf-d5ef17f6a9dd"
      },
      "execution_count": 19,
      "outputs": [
        {
          "output_type": "stream",
          "name": "stdout",
          "text": [
            "1/1 [==============================] - 0s 203ms/step\n",
            "Predictions: [[0.1553256 ]\n",
            " [0.16154024]]\n"
          ]
        }
      ]
    },
    {
      "cell_type": "code",
      "source": [],
      "metadata": {
        "id": "Wp_24G6bQ8uQ"
      },
      "execution_count": 19,
      "outputs": []
    }
  ]
}